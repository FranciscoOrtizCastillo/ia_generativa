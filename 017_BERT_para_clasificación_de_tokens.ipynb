{
  "nbformat": 4,
  "nbformat_minor": 0,
  "metadata": {
    "colab": {
      "provenance": []
    },
    "kernelspec": {
      "name": "python3",
      "display_name": "Python 3"
    },
    "language_info": {
      "name": "python"
    },
    "accelerator": "TPU",
    "widgets": {
      "application/vnd.jupyter.widget-state+json": {
        "046c80ddf13e4a06938c858a1b86a752": {
          "model_module": "@jupyter-widgets/controls",
          "model_name": "HBoxModel",
          "model_module_version": "1.5.0",
          "state": {
            "_dom_classes": [],
            "_model_module": "@jupyter-widgets/controls",
            "_model_module_version": "1.5.0",
            "_model_name": "HBoxModel",
            "_view_count": null,
            "_view_module": "@jupyter-widgets/controls",
            "_view_module_version": "1.5.0",
            "_view_name": "HBoxView",
            "box_style": "",
            "children": [
              "IPY_MODEL_f15811886fc04d308317ab46eb1c9c86",
              "IPY_MODEL_5aec10ffbe43476bae4402ca858a8582",
              "IPY_MODEL_739ab109b41f4b39a4c8379b0d547a5c"
            ],
            "layout": "IPY_MODEL_d78dde71f79842ecb5e19648ac25d203"
          }
        },
        "f15811886fc04d308317ab46eb1c9c86": {
          "model_module": "@jupyter-widgets/controls",
          "model_name": "HTMLModel",
          "model_module_version": "1.5.0",
          "state": {
            "_dom_classes": [],
            "_model_module": "@jupyter-widgets/controls",
            "_model_module_version": "1.5.0",
            "_model_name": "HTMLModel",
            "_view_count": null,
            "_view_module": "@jupyter-widgets/controls",
            "_view_module_version": "1.5.0",
            "_view_name": "HTMLView",
            "description": "",
            "description_tooltip": null,
            "layout": "IPY_MODEL_90fb7d18f0a54f788c1e3d43905fd0e7",
            "placeholder": "​",
            "style": "IPY_MODEL_d780d6d589e8482891ccd9172fd91ad1",
            "value": "Map: 100%"
          }
        },
        "5aec10ffbe43476bae4402ca858a8582": {
          "model_module": "@jupyter-widgets/controls",
          "model_name": "FloatProgressModel",
          "model_module_version": "1.5.0",
          "state": {
            "_dom_classes": [],
            "_model_module": "@jupyter-widgets/controls",
            "_model_module_version": "1.5.0",
            "_model_name": "FloatProgressModel",
            "_view_count": null,
            "_view_module": "@jupyter-widgets/controls",
            "_view_module_version": "1.5.0",
            "_view_name": "ProgressView",
            "bar_style": "success",
            "description": "",
            "description_tooltip": null,
            "layout": "IPY_MODEL_c7f731585cc846188515e4ee8a7f4e05",
            "max": 10467,
            "min": 0,
            "orientation": "horizontal",
            "style": "IPY_MODEL_5cb46dea355c4b9cbdae0f6972632324",
            "value": 10467
          }
        },
        "739ab109b41f4b39a4c8379b0d547a5c": {
          "model_module": "@jupyter-widgets/controls",
          "model_name": "HTMLModel",
          "model_module_version": "1.5.0",
          "state": {
            "_dom_classes": [],
            "_model_module": "@jupyter-widgets/controls",
            "_model_module_version": "1.5.0",
            "_model_name": "HTMLModel",
            "_view_count": null,
            "_view_module": "@jupyter-widgets/controls",
            "_view_module_version": "1.5.0",
            "_view_name": "HTMLView",
            "description": "",
            "description_tooltip": null,
            "layout": "IPY_MODEL_85521acda1054a03bfc387800d5f706a",
            "placeholder": "​",
            "style": "IPY_MODEL_0df878b0653b41bd9727bb078e3d434a",
            "value": " 10467/10467 [00:02&lt;00:00, 4412.36 examples/s]"
          }
        },
        "d78dde71f79842ecb5e19648ac25d203": {
          "model_module": "@jupyter-widgets/base",
          "model_name": "LayoutModel",
          "model_module_version": "1.2.0",
          "state": {
            "_model_module": "@jupyter-widgets/base",
            "_model_module_version": "1.2.0",
            "_model_name": "LayoutModel",
            "_view_count": null,
            "_view_module": "@jupyter-widgets/base",
            "_view_module_version": "1.2.0",
            "_view_name": "LayoutView",
            "align_content": null,
            "align_items": null,
            "align_self": null,
            "border": null,
            "bottom": null,
            "display": null,
            "flex": null,
            "flex_flow": null,
            "grid_area": null,
            "grid_auto_columns": null,
            "grid_auto_flow": null,
            "grid_auto_rows": null,
            "grid_column": null,
            "grid_gap": null,
            "grid_row": null,
            "grid_template_areas": null,
            "grid_template_columns": null,
            "grid_template_rows": null,
            "height": null,
            "justify_content": null,
            "justify_items": null,
            "left": null,
            "margin": null,
            "max_height": null,
            "max_width": null,
            "min_height": null,
            "min_width": null,
            "object_fit": null,
            "object_position": null,
            "order": null,
            "overflow": null,
            "overflow_x": null,
            "overflow_y": null,
            "padding": null,
            "right": null,
            "top": null,
            "visibility": null,
            "width": null
          }
        },
        "90fb7d18f0a54f788c1e3d43905fd0e7": {
          "model_module": "@jupyter-widgets/base",
          "model_name": "LayoutModel",
          "model_module_version": "1.2.0",
          "state": {
            "_model_module": "@jupyter-widgets/base",
            "_model_module_version": "1.2.0",
            "_model_name": "LayoutModel",
            "_view_count": null,
            "_view_module": "@jupyter-widgets/base",
            "_view_module_version": "1.2.0",
            "_view_name": "LayoutView",
            "align_content": null,
            "align_items": null,
            "align_self": null,
            "border": null,
            "bottom": null,
            "display": null,
            "flex": null,
            "flex_flow": null,
            "grid_area": null,
            "grid_auto_columns": null,
            "grid_auto_flow": null,
            "grid_auto_rows": null,
            "grid_column": null,
            "grid_gap": null,
            "grid_row": null,
            "grid_template_areas": null,
            "grid_template_columns": null,
            "grid_template_rows": null,
            "height": null,
            "justify_content": null,
            "justify_items": null,
            "left": null,
            "margin": null,
            "max_height": null,
            "max_width": null,
            "min_height": null,
            "min_width": null,
            "object_fit": null,
            "object_position": null,
            "order": null,
            "overflow": null,
            "overflow_x": null,
            "overflow_y": null,
            "padding": null,
            "right": null,
            "top": null,
            "visibility": null,
            "width": null
          }
        },
        "d780d6d589e8482891ccd9172fd91ad1": {
          "model_module": "@jupyter-widgets/controls",
          "model_name": "DescriptionStyleModel",
          "model_module_version": "1.5.0",
          "state": {
            "_model_module": "@jupyter-widgets/controls",
            "_model_module_version": "1.5.0",
            "_model_name": "DescriptionStyleModel",
            "_view_count": null,
            "_view_module": "@jupyter-widgets/base",
            "_view_module_version": "1.2.0",
            "_view_name": "StyleView",
            "description_width": ""
          }
        },
        "c7f731585cc846188515e4ee8a7f4e05": {
          "model_module": "@jupyter-widgets/base",
          "model_name": "LayoutModel",
          "model_module_version": "1.2.0",
          "state": {
            "_model_module": "@jupyter-widgets/base",
            "_model_module_version": "1.2.0",
            "_model_name": "LayoutModel",
            "_view_count": null,
            "_view_module": "@jupyter-widgets/base",
            "_view_module_version": "1.2.0",
            "_view_name": "LayoutView",
            "align_content": null,
            "align_items": null,
            "align_self": null,
            "border": null,
            "bottom": null,
            "display": null,
            "flex": null,
            "flex_flow": null,
            "grid_area": null,
            "grid_auto_columns": null,
            "grid_auto_flow": null,
            "grid_auto_rows": null,
            "grid_column": null,
            "grid_gap": null,
            "grid_row": null,
            "grid_template_areas": null,
            "grid_template_columns": null,
            "grid_template_rows": null,
            "height": null,
            "justify_content": null,
            "justify_items": null,
            "left": null,
            "margin": null,
            "max_height": null,
            "max_width": null,
            "min_height": null,
            "min_width": null,
            "object_fit": null,
            "object_position": null,
            "order": null,
            "overflow": null,
            "overflow_x": null,
            "overflow_y": null,
            "padding": null,
            "right": null,
            "top": null,
            "visibility": null,
            "width": null
          }
        },
        "5cb46dea355c4b9cbdae0f6972632324": {
          "model_module": "@jupyter-widgets/controls",
          "model_name": "ProgressStyleModel",
          "model_module_version": "1.5.0",
          "state": {
            "_model_module": "@jupyter-widgets/controls",
            "_model_module_version": "1.5.0",
            "_model_name": "ProgressStyleModel",
            "_view_count": null,
            "_view_module": "@jupyter-widgets/base",
            "_view_module_version": "1.2.0",
            "_view_name": "StyleView",
            "bar_color": null,
            "description_width": ""
          }
        },
        "85521acda1054a03bfc387800d5f706a": {
          "model_module": "@jupyter-widgets/base",
          "model_name": "LayoutModel",
          "model_module_version": "1.2.0",
          "state": {
            "_model_module": "@jupyter-widgets/base",
            "_model_module_version": "1.2.0",
            "_model_name": "LayoutModel",
            "_view_count": null,
            "_view_module": "@jupyter-widgets/base",
            "_view_module_version": "1.2.0",
            "_view_name": "LayoutView",
            "align_content": null,
            "align_items": null,
            "align_self": null,
            "border": null,
            "bottom": null,
            "display": null,
            "flex": null,
            "flex_flow": null,
            "grid_area": null,
            "grid_auto_columns": null,
            "grid_auto_flow": null,
            "grid_auto_rows": null,
            "grid_column": null,
            "grid_gap": null,
            "grid_row": null,
            "grid_template_areas": null,
            "grid_template_columns": null,
            "grid_template_rows": null,
            "height": null,
            "justify_content": null,
            "justify_items": null,
            "left": null,
            "margin": null,
            "max_height": null,
            "max_width": null,
            "min_height": null,
            "min_width": null,
            "object_fit": null,
            "object_position": null,
            "order": null,
            "overflow": null,
            "overflow_x": null,
            "overflow_y": null,
            "padding": null,
            "right": null,
            "top": null,
            "visibility": null,
            "width": null
          }
        },
        "0df878b0653b41bd9727bb078e3d434a": {
          "model_module": "@jupyter-widgets/controls",
          "model_name": "DescriptionStyleModel",
          "model_module_version": "1.5.0",
          "state": {
            "_model_module": "@jupyter-widgets/controls",
            "_model_module_version": "1.5.0",
            "_model_name": "DescriptionStyleModel",
            "_view_count": null,
            "_view_module": "@jupyter-widgets/base",
            "_view_module_version": "1.2.0",
            "_view_name": "StyleView",
            "description_width": ""
          }
        },
        "d3edd1d19eab49019366b1dcb1ca4505": {
          "model_module": "@jupyter-widgets/controls",
          "model_name": "HBoxModel",
          "model_module_version": "1.5.0",
          "state": {
            "_dom_classes": [],
            "_model_module": "@jupyter-widgets/controls",
            "_model_module_version": "1.5.0",
            "_model_name": "HBoxModel",
            "_view_count": null,
            "_view_module": "@jupyter-widgets/controls",
            "_view_module_version": "1.5.0",
            "_view_name": "HBoxView",
            "box_style": "",
            "children": [
              "IPY_MODEL_af28e37584404964aee380cc647d63ba",
              "IPY_MODEL_599155a1ee58481b95a557e2ac19c090",
              "IPY_MODEL_1a6adb02cb9d4473817d6edf320bef37"
            ],
            "layout": "IPY_MODEL_f13b442c3aee49d69d31b928d789c813"
          }
        },
        "af28e37584404964aee380cc647d63ba": {
          "model_module": "@jupyter-widgets/controls",
          "model_name": "HTMLModel",
          "model_module_version": "1.5.0",
          "state": {
            "_dom_classes": [],
            "_model_module": "@jupyter-widgets/controls",
            "_model_module_version": "1.5.0",
            "_model_name": "HTMLModel",
            "_view_count": null,
            "_view_module": "@jupyter-widgets/controls",
            "_view_module_version": "1.5.0",
            "_view_name": "HTMLView",
            "description": "",
            "description_tooltip": null,
            "layout": "IPY_MODEL_4633360bfdb345a0a8c0bb9106ec787b",
            "placeholder": "​",
            "style": "IPY_MODEL_ce1c56677d2f443ea8903d297d546fa6",
            "value": "Map: 100%"
          }
        },
        "599155a1ee58481b95a557e2ac19c090": {
          "model_module": "@jupyter-widgets/controls",
          "model_name": "FloatProgressModel",
          "model_module_version": "1.5.0",
          "state": {
            "_dom_classes": [],
            "_model_module": "@jupyter-widgets/controls",
            "_model_module_version": "1.5.0",
            "_model_name": "FloatProgressModel",
            "_view_count": null,
            "_view_module": "@jupyter-widgets/controls",
            "_view_module_version": "1.5.0",
            "_view_name": "ProgressView",
            "bar_style": "success",
            "description": "",
            "description_tooltip": null,
            "layout": "IPY_MODEL_5fbdced3265f47e38e2aa0c709c8c835",
            "max": 2617,
            "min": 0,
            "orientation": "horizontal",
            "style": "IPY_MODEL_eb1b0520dccf419fb8466e5051ea09ca",
            "value": 2617
          }
        },
        "1a6adb02cb9d4473817d6edf320bef37": {
          "model_module": "@jupyter-widgets/controls",
          "model_name": "HTMLModel",
          "model_module_version": "1.5.0",
          "state": {
            "_dom_classes": [],
            "_model_module": "@jupyter-widgets/controls",
            "_model_module_version": "1.5.0",
            "_model_name": "HTMLModel",
            "_view_count": null,
            "_view_module": "@jupyter-widgets/controls",
            "_view_module_version": "1.5.0",
            "_view_name": "HTMLView",
            "description": "",
            "description_tooltip": null,
            "layout": "IPY_MODEL_af4fd79e4a0f43e1a451e9ac1fa48e62",
            "placeholder": "​",
            "style": "IPY_MODEL_59b0135a960b4dafac4fdc71b7ad2635",
            "value": " 2617/2617 [00:00&lt;00:00, 3961.84 examples/s]"
          }
        },
        "f13b442c3aee49d69d31b928d789c813": {
          "model_module": "@jupyter-widgets/base",
          "model_name": "LayoutModel",
          "model_module_version": "1.2.0",
          "state": {
            "_model_module": "@jupyter-widgets/base",
            "_model_module_version": "1.2.0",
            "_model_name": "LayoutModel",
            "_view_count": null,
            "_view_module": "@jupyter-widgets/base",
            "_view_module_version": "1.2.0",
            "_view_name": "LayoutView",
            "align_content": null,
            "align_items": null,
            "align_self": null,
            "border": null,
            "bottom": null,
            "display": null,
            "flex": null,
            "flex_flow": null,
            "grid_area": null,
            "grid_auto_columns": null,
            "grid_auto_flow": null,
            "grid_auto_rows": null,
            "grid_column": null,
            "grid_gap": null,
            "grid_row": null,
            "grid_template_areas": null,
            "grid_template_columns": null,
            "grid_template_rows": null,
            "height": null,
            "justify_content": null,
            "justify_items": null,
            "left": null,
            "margin": null,
            "max_height": null,
            "max_width": null,
            "min_height": null,
            "min_width": null,
            "object_fit": null,
            "object_position": null,
            "order": null,
            "overflow": null,
            "overflow_x": null,
            "overflow_y": null,
            "padding": null,
            "right": null,
            "top": null,
            "visibility": null,
            "width": null
          }
        },
        "4633360bfdb345a0a8c0bb9106ec787b": {
          "model_module": "@jupyter-widgets/base",
          "model_name": "LayoutModel",
          "model_module_version": "1.2.0",
          "state": {
            "_model_module": "@jupyter-widgets/base",
            "_model_module_version": "1.2.0",
            "_model_name": "LayoutModel",
            "_view_count": null,
            "_view_module": "@jupyter-widgets/base",
            "_view_module_version": "1.2.0",
            "_view_name": "LayoutView",
            "align_content": null,
            "align_items": null,
            "align_self": null,
            "border": null,
            "bottom": null,
            "display": null,
            "flex": null,
            "flex_flow": null,
            "grid_area": null,
            "grid_auto_columns": null,
            "grid_auto_flow": null,
            "grid_auto_rows": null,
            "grid_column": null,
            "grid_gap": null,
            "grid_row": null,
            "grid_template_areas": null,
            "grid_template_columns": null,
            "grid_template_rows": null,
            "height": null,
            "justify_content": null,
            "justify_items": null,
            "left": null,
            "margin": null,
            "max_height": null,
            "max_width": null,
            "min_height": null,
            "min_width": null,
            "object_fit": null,
            "object_position": null,
            "order": null,
            "overflow": null,
            "overflow_x": null,
            "overflow_y": null,
            "padding": null,
            "right": null,
            "top": null,
            "visibility": null,
            "width": null
          }
        },
        "ce1c56677d2f443ea8903d297d546fa6": {
          "model_module": "@jupyter-widgets/controls",
          "model_name": "DescriptionStyleModel",
          "model_module_version": "1.5.0",
          "state": {
            "_model_module": "@jupyter-widgets/controls",
            "_model_module_version": "1.5.0",
            "_model_name": "DescriptionStyleModel",
            "_view_count": null,
            "_view_module": "@jupyter-widgets/base",
            "_view_module_version": "1.2.0",
            "_view_name": "StyleView",
            "description_width": ""
          }
        },
        "5fbdced3265f47e38e2aa0c709c8c835": {
          "model_module": "@jupyter-widgets/base",
          "model_name": "LayoutModel",
          "model_module_version": "1.2.0",
          "state": {
            "_model_module": "@jupyter-widgets/base",
            "_model_module_version": "1.2.0",
            "_model_name": "LayoutModel",
            "_view_count": null,
            "_view_module": "@jupyter-widgets/base",
            "_view_module_version": "1.2.0",
            "_view_name": "LayoutView",
            "align_content": null,
            "align_items": null,
            "align_self": null,
            "border": null,
            "bottom": null,
            "display": null,
            "flex": null,
            "flex_flow": null,
            "grid_area": null,
            "grid_auto_columns": null,
            "grid_auto_flow": null,
            "grid_auto_rows": null,
            "grid_column": null,
            "grid_gap": null,
            "grid_row": null,
            "grid_template_areas": null,
            "grid_template_columns": null,
            "grid_template_rows": null,
            "height": null,
            "justify_content": null,
            "justify_items": null,
            "left": null,
            "margin": null,
            "max_height": null,
            "max_width": null,
            "min_height": null,
            "min_width": null,
            "object_fit": null,
            "object_position": null,
            "order": null,
            "overflow": null,
            "overflow_x": null,
            "overflow_y": null,
            "padding": null,
            "right": null,
            "top": null,
            "visibility": null,
            "width": null
          }
        },
        "eb1b0520dccf419fb8466e5051ea09ca": {
          "model_module": "@jupyter-widgets/controls",
          "model_name": "ProgressStyleModel",
          "model_module_version": "1.5.0",
          "state": {
            "_model_module": "@jupyter-widgets/controls",
            "_model_module_version": "1.5.0",
            "_model_name": "ProgressStyleModel",
            "_view_count": null,
            "_view_module": "@jupyter-widgets/base",
            "_view_module_version": "1.2.0",
            "_view_name": "StyleView",
            "bar_color": null,
            "description_width": ""
          }
        },
        "af4fd79e4a0f43e1a451e9ac1fa48e62": {
          "model_module": "@jupyter-widgets/base",
          "model_name": "LayoutModel",
          "model_module_version": "1.2.0",
          "state": {
            "_model_module": "@jupyter-widgets/base",
            "_model_module_version": "1.2.0",
            "_model_name": "LayoutModel",
            "_view_count": null,
            "_view_module": "@jupyter-widgets/base",
            "_view_module_version": "1.2.0",
            "_view_name": "LayoutView",
            "align_content": null,
            "align_items": null,
            "align_self": null,
            "border": null,
            "bottom": null,
            "display": null,
            "flex": null,
            "flex_flow": null,
            "grid_area": null,
            "grid_auto_columns": null,
            "grid_auto_flow": null,
            "grid_auto_rows": null,
            "grid_column": null,
            "grid_gap": null,
            "grid_row": null,
            "grid_template_areas": null,
            "grid_template_columns": null,
            "grid_template_rows": null,
            "height": null,
            "justify_content": null,
            "justify_items": null,
            "left": null,
            "margin": null,
            "max_height": null,
            "max_width": null,
            "min_height": null,
            "min_width": null,
            "object_fit": null,
            "object_position": null,
            "order": null,
            "overflow": null,
            "overflow_x": null,
            "overflow_y": null,
            "padding": null,
            "right": null,
            "top": null,
            "visibility": null,
            "width": null
          }
        },
        "59b0135a960b4dafac4fdc71b7ad2635": {
          "model_module": "@jupyter-widgets/controls",
          "model_name": "DescriptionStyleModel",
          "model_module_version": "1.5.0",
          "state": {
            "_model_module": "@jupyter-widgets/controls",
            "_model_module_version": "1.5.0",
            "_model_name": "DescriptionStyleModel",
            "_view_count": null,
            "_view_module": "@jupyter-widgets/base",
            "_view_module_version": "1.2.0",
            "_view_name": "StyleView",
            "description_width": ""
          }
        },
        "9f4b003649694e00a7e346b1a095de04": {
          "model_module": "@jupyter-widgets/controls",
          "model_name": "HBoxModel",
          "model_module_version": "1.5.0",
          "state": {
            "_dom_classes": [],
            "_model_module": "@jupyter-widgets/controls",
            "_model_module_version": "1.5.0",
            "_model_name": "HBoxModel",
            "_view_count": null,
            "_view_module": "@jupyter-widgets/controls",
            "_view_module_version": "1.5.0",
            "_view_name": "HBoxView",
            "box_style": "",
            "children": [
              "IPY_MODEL_47ded93cc82d478da79b7f29a66bf97e",
              "IPY_MODEL_db32bda135594afb89667d237ac7b2cb",
              "IPY_MODEL_abfb5773e6f647d7922f6f39d992cbf5"
            ],
            "layout": "IPY_MODEL_c14dddbf6dbf43708cac8a6f275008b4"
          }
        },
        "47ded93cc82d478da79b7f29a66bf97e": {
          "model_module": "@jupyter-widgets/controls",
          "model_name": "HTMLModel",
          "model_module_version": "1.5.0",
          "state": {
            "_dom_classes": [],
            "_model_module": "@jupyter-widgets/controls",
            "_model_module_version": "1.5.0",
            "_model_name": "HTMLModel",
            "_view_count": null,
            "_view_module": "@jupyter-widgets/controls",
            "_view_module_version": "1.5.0",
            "_view_name": "HTMLView",
            "description": "",
            "description_tooltip": null,
            "layout": "IPY_MODEL_4cf1fdd8ef04401c90394878589e7968",
            "placeholder": "​",
            "style": "IPY_MODEL_cd718051646247ca87a4328e78264c73",
            "value": "Downloading pytorch_model.bin: 100%"
          }
        },
        "db32bda135594afb89667d237ac7b2cb": {
          "model_module": "@jupyter-widgets/controls",
          "model_name": "FloatProgressModel",
          "model_module_version": "1.5.0",
          "state": {
            "_dom_classes": [],
            "_model_module": "@jupyter-widgets/controls",
            "_model_module_version": "1.5.0",
            "_model_name": "FloatProgressModel",
            "_view_count": null,
            "_view_module": "@jupyter-widgets/controls",
            "_view_module_version": "1.5.0",
            "_view_name": "ProgressView",
            "bar_style": "success",
            "description": "",
            "description_tooltip": null,
            "layout": "IPY_MODEL_c1ba3f389d4f4aa3aa341d25fae60157",
            "max": 263273408,
            "min": 0,
            "orientation": "horizontal",
            "style": "IPY_MODEL_9ecb3bd1afe64f6e990171001aa5f6e7",
            "value": 263273408
          }
        },
        "abfb5773e6f647d7922f6f39d992cbf5": {
          "model_module": "@jupyter-widgets/controls",
          "model_name": "HTMLModel",
          "model_module_version": "1.5.0",
          "state": {
            "_dom_classes": [],
            "_model_module": "@jupyter-widgets/controls",
            "_model_module_version": "1.5.0",
            "_model_name": "HTMLModel",
            "_view_count": null,
            "_view_module": "@jupyter-widgets/controls",
            "_view_module_version": "1.5.0",
            "_view_name": "HTMLView",
            "description": "",
            "description_tooltip": null,
            "layout": "IPY_MODEL_04f0112abacd43f8a31094f51d0f7215",
            "placeholder": "​",
            "style": "IPY_MODEL_3b20e5b9d514414bba92889e8c3c2f87",
            "value": " 263M/263M [00:03&lt;00:00, 76.8MB/s]"
          }
        },
        "c14dddbf6dbf43708cac8a6f275008b4": {
          "model_module": "@jupyter-widgets/base",
          "model_name": "LayoutModel",
          "model_module_version": "1.2.0",
          "state": {
            "_model_module": "@jupyter-widgets/base",
            "_model_module_version": "1.2.0",
            "_model_name": "LayoutModel",
            "_view_count": null,
            "_view_module": "@jupyter-widgets/base",
            "_view_module_version": "1.2.0",
            "_view_name": "LayoutView",
            "align_content": null,
            "align_items": null,
            "align_self": null,
            "border": null,
            "bottom": null,
            "display": null,
            "flex": null,
            "flex_flow": null,
            "grid_area": null,
            "grid_auto_columns": null,
            "grid_auto_flow": null,
            "grid_auto_rows": null,
            "grid_column": null,
            "grid_gap": null,
            "grid_row": null,
            "grid_template_areas": null,
            "grid_template_columns": null,
            "grid_template_rows": null,
            "height": null,
            "justify_content": null,
            "justify_items": null,
            "left": null,
            "margin": null,
            "max_height": null,
            "max_width": null,
            "min_height": null,
            "min_width": null,
            "object_fit": null,
            "object_position": null,
            "order": null,
            "overflow": null,
            "overflow_x": null,
            "overflow_y": null,
            "padding": null,
            "right": null,
            "top": null,
            "visibility": null,
            "width": null
          }
        },
        "4cf1fdd8ef04401c90394878589e7968": {
          "model_module": "@jupyter-widgets/base",
          "model_name": "LayoutModel",
          "model_module_version": "1.2.0",
          "state": {
            "_model_module": "@jupyter-widgets/base",
            "_model_module_version": "1.2.0",
            "_model_name": "LayoutModel",
            "_view_count": null,
            "_view_module": "@jupyter-widgets/base",
            "_view_module_version": "1.2.0",
            "_view_name": "LayoutView",
            "align_content": null,
            "align_items": null,
            "align_self": null,
            "border": null,
            "bottom": null,
            "display": null,
            "flex": null,
            "flex_flow": null,
            "grid_area": null,
            "grid_auto_columns": null,
            "grid_auto_flow": null,
            "grid_auto_rows": null,
            "grid_column": null,
            "grid_gap": null,
            "grid_row": null,
            "grid_template_areas": null,
            "grid_template_columns": null,
            "grid_template_rows": null,
            "height": null,
            "justify_content": null,
            "justify_items": null,
            "left": null,
            "margin": null,
            "max_height": null,
            "max_width": null,
            "min_height": null,
            "min_width": null,
            "object_fit": null,
            "object_position": null,
            "order": null,
            "overflow": null,
            "overflow_x": null,
            "overflow_y": null,
            "padding": null,
            "right": null,
            "top": null,
            "visibility": null,
            "width": null
          }
        },
        "cd718051646247ca87a4328e78264c73": {
          "model_module": "@jupyter-widgets/controls",
          "model_name": "DescriptionStyleModel",
          "model_module_version": "1.5.0",
          "state": {
            "_model_module": "@jupyter-widgets/controls",
            "_model_module_version": "1.5.0",
            "_model_name": "DescriptionStyleModel",
            "_view_count": null,
            "_view_module": "@jupyter-widgets/base",
            "_view_module_version": "1.2.0",
            "_view_name": "StyleView",
            "description_width": ""
          }
        },
        "c1ba3f389d4f4aa3aa341d25fae60157": {
          "model_module": "@jupyter-widgets/base",
          "model_name": "LayoutModel",
          "model_module_version": "1.2.0",
          "state": {
            "_model_module": "@jupyter-widgets/base",
            "_model_module_version": "1.2.0",
            "_model_name": "LayoutModel",
            "_view_count": null,
            "_view_module": "@jupyter-widgets/base",
            "_view_module_version": "1.2.0",
            "_view_name": "LayoutView",
            "align_content": null,
            "align_items": null,
            "align_self": null,
            "border": null,
            "bottom": null,
            "display": null,
            "flex": null,
            "flex_flow": null,
            "grid_area": null,
            "grid_auto_columns": null,
            "grid_auto_flow": null,
            "grid_auto_rows": null,
            "grid_column": null,
            "grid_gap": null,
            "grid_row": null,
            "grid_template_areas": null,
            "grid_template_columns": null,
            "grid_template_rows": null,
            "height": null,
            "justify_content": null,
            "justify_items": null,
            "left": null,
            "margin": null,
            "max_height": null,
            "max_width": null,
            "min_height": null,
            "min_width": null,
            "object_fit": null,
            "object_position": null,
            "order": null,
            "overflow": null,
            "overflow_x": null,
            "overflow_y": null,
            "padding": null,
            "right": null,
            "top": null,
            "visibility": null,
            "width": null
          }
        },
        "9ecb3bd1afe64f6e990171001aa5f6e7": {
          "model_module": "@jupyter-widgets/controls",
          "model_name": "ProgressStyleModel",
          "model_module_version": "1.5.0",
          "state": {
            "_model_module": "@jupyter-widgets/controls",
            "_model_module_version": "1.5.0",
            "_model_name": "ProgressStyleModel",
            "_view_count": null,
            "_view_module": "@jupyter-widgets/base",
            "_view_module_version": "1.2.0",
            "_view_name": "StyleView",
            "bar_color": null,
            "description_width": ""
          }
        },
        "04f0112abacd43f8a31094f51d0f7215": {
          "model_module": "@jupyter-widgets/base",
          "model_name": "LayoutModel",
          "model_module_version": "1.2.0",
          "state": {
            "_model_module": "@jupyter-widgets/base",
            "_model_module_version": "1.2.0",
            "_model_name": "LayoutModel",
            "_view_count": null,
            "_view_module": "@jupyter-widgets/base",
            "_view_module_version": "1.2.0",
            "_view_name": "LayoutView",
            "align_content": null,
            "align_items": null,
            "align_self": null,
            "border": null,
            "bottom": null,
            "display": null,
            "flex": null,
            "flex_flow": null,
            "grid_area": null,
            "grid_auto_columns": null,
            "grid_auto_flow": null,
            "grid_auto_rows": null,
            "grid_column": null,
            "grid_gap": null,
            "grid_row": null,
            "grid_template_areas": null,
            "grid_template_columns": null,
            "grid_template_rows": null,
            "height": null,
            "justify_content": null,
            "justify_items": null,
            "left": null,
            "margin": null,
            "max_height": null,
            "max_width": null,
            "min_height": null,
            "min_width": null,
            "object_fit": null,
            "object_position": null,
            "order": null,
            "overflow": null,
            "overflow_x": null,
            "overflow_y": null,
            "padding": null,
            "right": null,
            "top": null,
            "visibility": null,
            "width": null
          }
        },
        "3b20e5b9d514414bba92889e8c3c2f87": {
          "model_module": "@jupyter-widgets/controls",
          "model_name": "DescriptionStyleModel",
          "model_module_version": "1.5.0",
          "state": {
            "_model_module": "@jupyter-widgets/controls",
            "_model_module_version": "1.5.0",
            "_model_name": "DescriptionStyleModel",
            "_view_count": null,
            "_view_module": "@jupyter-widgets/base",
            "_view_module_version": "1.2.0",
            "_view_name": "StyleView",
            "description_width": ""
          }
        }
      }
    }
  },
  "cells": [
    {
      "cell_type": "markdown",
      "source": [
        "# **BERT PARA CLASIFICACIÓN DE TOKENS**"
      ],
      "metadata": {
        "id": "5y6UEpgMYol6"
      }
    },
    {
      "cell_type": "code",
      "execution_count": null,
      "metadata": {
        "colab": {
          "base_uri": "https://localhost:8080/"
        },
        "id": "5_RKVaoNYklR",
        "outputId": "9983360f-f7e3-4f2a-eaba-af6b9c10fc1e"
      },
      "outputs": [
        {
          "output_type": "stream",
          "name": "stdout",
          "text": [
            "Mounted at /content/drive\n"
          ]
        }
      ],
      "source": [
        "#Montar Colab en Drive\n",
        "from google.colab import drive\n",
        "drive.mount('/content/drive')"
      ]
    },
    {
      "cell_type": "code",
      "source": [
        "!pip install transformers\n",
        "!pip install datasets\n",
        "!pip install accelerate\n"
      ],
      "metadata": {
        "id": "y4wzLUJ8ZK_O"
      },
      "execution_count": null,
      "outputs": []
    },
    {
      "cell_type": "code",
      "source": [
        "from transformers import Trainer, TrainingArguments, DataCollatorForTokenClassification, DistilBertForTokenClassification, DistilBertTokenizerFast, pipeline\n",
        "from datasets import load_metric, Dataset"
      ],
      "metadata": {
        "id": "l_kj83c1Zefj"
      },
      "execution_count": null,
      "outputs": []
    },
    {
      "cell_type": "code",
      "source": [
        "# Usamos un tokenizador cased que para esta tarea puede ser necesario\n",
        "tokenizer = DistilBertTokenizerFast.from_pretrained('distilbert-base-cased')"
      ],
      "metadata": {
        "id": "rC0ymQUmZmUi"
      },
      "execution_count": null,
      "outputs": []
    },
    {
      "cell_type": "code",
      "source": [
        "snips_file = open('/content/drive/MyDrive/snips.train.txt', 'rb')\n",
        "snips_rows = snips_file.readlines()\n",
        "\n",
        "snips_rows[:20]"
      ],
      "metadata": {
        "id": "MBHFwRjsa20j"
      },
      "execution_count": null,
      "outputs": []
    },
    {
      "cell_type": "code",
      "source": [
        "utterances = []\n",
        "tokenized_utterances = []\n",
        "labels_for_tokens = []\n",
        "sequence_labels = []\n",
        "\n",
        "utterance, tokenized_utterance, label_for_utterances = '', [], []\n",
        "for snip_row in snips_rows:\n",
        "    if len(snip_row) == 2:  # saltarse las filas sin datos\n",
        "        continue\n",
        "    if ' ' not in snip_row.decode():  # we've hit a sequence label\n",
        "        sequence_labels.append(snip_row.decode().strip())\n",
        "        utterances.append(utterance.strip())\n",
        "        tokenized_utterances.append(tokenized_utterance)\n",
        "        labels_for_tokens.append(label_for_utterances)\n",
        "        utterance = ''\n",
        "        tokenized_utterance = []\n",
        "        label_for_utterances = []\n",
        "        continue\n",
        "    token, token_label = snip_row.decode().split(' ')\n",
        "    token_label = token_label.strip()\n",
        "    utterance += f'{token} '\n",
        "    tokenized_utterance.append(token)\n",
        "    label_for_utterances.append(token_label)"
      ],
      "metadata": {
        "id": "zhddkzqHbDcy"
      },
      "execution_count": null,
      "outputs": []
    },
    {
      "cell_type": "code",
      "source": [
        "from functools import reduce\n",
        "\n",
        "unique_token_labels = list(set(reduce(lambda x, y: x + y, labels_for_tokens)))\n",
        "labels_for_tokens = [[unique_token_labels.index(_) for _ in l] for l in labels_for_tokens]\n",
        "\n",
        "print(f'Hay {len(unique_token_labels)} etiquetas de token únicas')"
      ],
      "metadata": {
        "colab": {
          "base_uri": "https://localhost:8080/"
        },
        "id": "gjCOgre4cJlN",
        "outputId": "df6c8afc-2f67-415b-8dbb-bcebc6188870"
      },
      "execution_count": null,
      "outputs": [
        {
          "output_type": "stream",
          "name": "stdout",
          "text": [
            "Hay 72 etiquetas de token únicas\n"
          ]
        }
      ]
    },
    {
      "cell_type": "code",
      "source": [
        "snips_dataset = Dataset.from_dict(\n",
        "    dict(\n",
        "        utterance=utterances,\n",
        "        label=sequence_labels,\n",
        "        tokens=tokenized_utterances,\n",
        "        token_labels=labels_for_tokens\n",
        "    )\n",
        ")\n",
        "snips_dataset = snips_dataset.train_test_split(test_size=0.2)"
      ],
      "metadata": {
        "id": "jSvxIoKhdLsa"
      },
      "execution_count": null,
      "outputs": []
    },
    {
      "cell_type": "code",
      "source": [
        "snips_dataset['train'][0]"
      ],
      "metadata": {
        "colab": {
          "base_uri": "https://localhost:8080/"
        },
        "id": "-3cAswb8dX2z",
        "outputId": "646ca8d3-9ea7-4802-abf1-ca7d42eecc48"
      },
      "execution_count": null,
      "outputs": [
        {
          "output_type": "execute_result",
          "data": {
            "text/plain": [
              "{'utterance': 'play music year 2016 by artist michiru yamane',\n",
              " 'label': 'PlayMusic',\n",
              " 'tokens': ['play',\n",
              "  'music',\n",
              "  'year',\n",
              "  '2016',\n",
              "  'by',\n",
              "  'artist',\n",
              "  'michiru',\n",
              "  'yamane'],\n",
              " 'token_labels': [0, 0, 0, 31, 0, 0, 62, 34]}"
            ]
          },
          "metadata": {},
          "execution_count": 9
        }
      ]
    },
    {
      "cell_type": "code",
      "source": [
        "# Es posible que las \"token_labels\" dados no coincidan con la tokenización de  BERT, por lo que\n",
        "# esta función los asignará a la tokenización que usa BERT\n",
        "# -100 es un reservado para etiquetas en las que no queremos calcular pérdidas\n",
        "# tratando de predecir tokens como CLS o SEP o de palabras divididas en subtokens\n",
        "\n",
        "def tokenize_and_align_labels(examples):\n",
        "    tokenized_inputs = tokenizer(examples[\"tokens\"], truncation=True, is_split_into_words=True)\n",
        "\n",
        "    labels = []\n",
        "    for i, label in enumerate(examples[f\"token_labels\"]):\n",
        "        word_ids = tokenized_inputs.word_ids(batch_index=i)  # Asigna tokens a su palabra respectiva.\n",
        "        previous_word_idx = None\n",
        "        label_ids = []\n",
        "        for word_idx in word_ids:\n",
        "            if word_idx is None:  # Configura los tokens especiales a -100.\n",
        "                label_ids.append(-100)\n",
        "            elif word_idx != previous_word_idx:  # Solo etiqueta el primer token de una palabra sin son varios.\n",
        "                label_ids.append(label[word_idx])\n",
        "            else:\n",
        "                label_ids.append(-100)  # CLS y SEP son etiquetados como -100\n",
        "            previous_word_idx = word_idx\n",
        "        labels.append(label_ids)\n",
        "\n",
        "    tokenized_inputs[\"labels\"] = labels\n",
        "    return tokenized_inputs"
      ],
      "metadata": {
        "id": "6P-N5764dqxj"
      },
      "execution_count": null,
      "outputs": []
    },
    {
      "cell_type": "code",
      "source": [
        "# asigna nuestro dataset  para ser de clasificación de tokens\n",
        "tok_clf_tokenized_snips = snips_dataset.map(tokenize_and_align_labels, batched=True)"
      ],
      "metadata": {
        "colab": {
          "base_uri": "https://localhost:8080/",
          "height": 81,
          "referenced_widgets": [
            "046c80ddf13e4a06938c858a1b86a752",
            "f15811886fc04d308317ab46eb1c9c86",
            "5aec10ffbe43476bae4402ca858a8582",
            "739ab109b41f4b39a4c8379b0d547a5c",
            "d78dde71f79842ecb5e19648ac25d203",
            "90fb7d18f0a54f788c1e3d43905fd0e7",
            "d780d6d589e8482891ccd9172fd91ad1",
            "c7f731585cc846188515e4ee8a7f4e05",
            "5cb46dea355c4b9cbdae0f6972632324",
            "85521acda1054a03bfc387800d5f706a",
            "0df878b0653b41bd9727bb078e3d434a",
            "d3edd1d19eab49019366b1dcb1ca4505",
            "af28e37584404964aee380cc647d63ba",
            "599155a1ee58481b95a557e2ac19c090",
            "1a6adb02cb9d4473817d6edf320bef37",
            "f13b442c3aee49d69d31b928d789c813",
            "4633360bfdb345a0a8c0bb9106ec787b",
            "ce1c56677d2f443ea8903d297d546fa6",
            "5fbdced3265f47e38e2aa0c709c8c835",
            "eb1b0520dccf419fb8466e5051ea09ca",
            "af4fd79e4a0f43e1a451e9ac1fa48e62",
            "59b0135a960b4dafac4fdc71b7ad2635"
          ]
        },
        "id": "GYFj1U9bd_Sx",
        "outputId": "7cb1c70e-3149-4b76-9925-324f52353419"
      },
      "execution_count": null,
      "outputs": [
        {
          "output_type": "display_data",
          "data": {
            "text/plain": [
              "Map:   0%|          | 0/10467 [00:00<?, ? examples/s]"
            ],
            "application/vnd.jupyter.widget-view+json": {
              "version_major": 2,
              "version_minor": 0,
              "model_id": "046c80ddf13e4a06938c858a1b86a752"
            }
          },
          "metadata": {}
        },
        {
          "output_type": "display_data",
          "data": {
            "text/plain": [
              "Map:   0%|          | 0/2617 [00:00<?, ? examples/s]"
            ],
            "application/vnd.jupyter.widget-view+json": {
              "version_major": 2,
              "version_minor": 0,
              "model_id": "d3edd1d19eab49019366b1dcb1ca4505"
            }
          },
          "metadata": {}
        }
      ]
    },
    {
      "cell_type": "code",
      "source": [
        "tok_clf_tokenized_snips['train'][0]"
      ],
      "metadata": {
        "colab": {
          "base_uri": "https://localhost:8080/"
        },
        "id": "7_F-04wieKh3",
        "outputId": "20b8a6ae-7d1c-4b86-92fc-357fd40840e3"
      },
      "execution_count": null,
      "outputs": [
        {
          "output_type": "execute_result",
          "data": {
            "text/plain": [
              "{'utterance': 'play music year 2016 by artist michiru yamane',\n",
              " 'label': 'PlayMusic',\n",
              " 'tokens': ['play',\n",
              "  'music',\n",
              "  'year',\n",
              "  '2016',\n",
              "  'by',\n",
              "  'artist',\n",
              "  'michiru',\n",
              "  'yamane'],\n",
              " 'token_labels': [0, 0, 0, 31, 0, 0, 62, 34],\n",
              " 'input_ids': [101,\n",
              "  1505,\n",
              "  1390,\n",
              "  1214,\n",
              "  1446,\n",
              "  1118,\n",
              "  2360,\n",
              "  1940,\n",
              "  4313,\n",
              "  5082,\n",
              "  11078,\n",
              "  1399,\n",
              "  1162,\n",
              "  102],\n",
              " 'attention_mask': [1, 1, 1, 1, 1, 1, 1, 1, 1, 1, 1, 1, 1, 1],\n",
              " 'labels': [-100, 0, 0, 0, 31, 0, 0, 62, -100, -100, 34, -100, -100, -100]}"
            ]
          },
          "metadata": {},
          "execution_count": 14
        }
      ]
    },
    {
      "cell_type": "code",
      "source": [
        "tok_clf_tokenized_snips['train'] = tok_clf_tokenized_snips['train'].remove_columns(\n",
        "    ['utterance', 'label', 'tokens', 'token_labels']\n",
        ")\n",
        "\n",
        "tok_clf_tokenized_snips['test'] = tok_clf_tokenized_snips['test'].remove_columns(\n",
        "    ['utterance', 'label', 'tokens', 'token_labels']\n",
        ")\n",
        "\n",
        "tok_clf_tokenized_snips"
      ],
      "metadata": {
        "colab": {
          "base_uri": "https://localhost:8080/"
        },
        "id": "Gwc6evEzeU0o",
        "outputId": "e1bcc378-7a28-4408-fbd9-1804b5d71c9b"
      },
      "execution_count": null,
      "outputs": [
        {
          "output_type": "execute_result",
          "data": {
            "text/plain": [
              "DatasetDict({\n",
              "    train: Dataset({\n",
              "        features: ['input_ids', 'attention_mask', 'labels'],\n",
              "        num_rows: 10467\n",
              "    })\n",
              "    test: Dataset({\n",
              "        features: ['input_ids', 'attention_mask', 'labels'],\n",
              "        num_rows: 2617\n",
              "    })\n",
              "})"
            ]
          },
          "metadata": {},
          "execution_count": 15
        }
      ]
    },
    {
      "cell_type": "code",
      "source": [
        "tok_data_collator = DataCollatorForTokenClassification(tokenizer=tokenizer)"
      ],
      "metadata": {
        "id": "XoHazyeceefE"
      },
      "execution_count": null,
      "outputs": []
    },
    {
      "cell_type": "code",
      "source": [
        "tok_clf_model = DistilBertForTokenClassification.from_pretrained(\n",
        "    'distilbert-base-cased', num_labels=len(unique_token_labels)\n",
        ")\n",
        "\n",
        "# Set our label dictionary\n",
        "tok_clf_model.config.id2label = {i: l for i, l in enumerate(unique_token_labels)}"
      ],
      "metadata": {
        "colab": {
          "base_uri": "https://localhost:8080/",
          "height": 84,
          "referenced_widgets": [
            "9f4b003649694e00a7e346b1a095de04",
            "47ded93cc82d478da79b7f29a66bf97e",
            "db32bda135594afb89667d237ac7b2cb",
            "abfb5773e6f647d7922f6f39d992cbf5",
            "c14dddbf6dbf43708cac8a6f275008b4",
            "4cf1fdd8ef04401c90394878589e7968",
            "cd718051646247ca87a4328e78264c73",
            "c1ba3f389d4f4aa3aa341d25fae60157",
            "9ecb3bd1afe64f6e990171001aa5f6e7",
            "04f0112abacd43f8a31094f51d0f7215",
            "3b20e5b9d514414bba92889e8c3c2f87"
          ]
        },
        "id": "to8dx9e-elbs",
        "outputId": "8e72cf12-2cda-48d1-cb8a-7a0c3ff0bd04"
      },
      "execution_count": null,
      "outputs": [
        {
          "output_type": "display_data",
          "data": {
            "text/plain": [
              "Downloading pytorch_model.bin:   0%|          | 0.00/263M [00:00<?, ?B/s]"
            ],
            "application/vnd.jupyter.widget-view+json": {
              "version_major": 2,
              "version_minor": 0,
              "model_id": "9f4b003649694e00a7e346b1a095de04"
            }
          },
          "metadata": {}
        },
        {
          "output_type": "stream",
          "name": "stderr",
          "text": [
            "Some weights of DistilBertForTokenClassification were not initialized from the model checkpoint at distilbert-base-cased and are newly initialized: ['classifier.weight', 'classifier.bias']\n",
            "You should probably TRAIN this model on a down-stream task to be able to use it for predictions and inference.\n"
          ]
        }
      ]
    },
    {
      "cell_type": "code",
      "source": [
        "tok_clf_model.config.id2label[0], tok_clf_model.config.id2label[1]"
      ],
      "metadata": {
        "colab": {
          "base_uri": "https://localhost:8080/"
        },
        "id": "3cRpaFuFezyR",
        "outputId": "f2672715-1761-45cd-f86f-d0c2b66b1d6c"
      },
      "execution_count": null,
      "outputs": [
        {
          "output_type": "execute_result",
          "data": {
            "text/plain": [
              "('O', 'B-city')"
            ]
          },
          "metadata": {},
          "execution_count": 18
        }
      ]
    },
    {
      "cell_type": "code",
      "source": [
        "import os\n",
        "os.makedirs(\"/content/drive/MyDrive/snips_clf/resultstokens\", exist_ok=True)"
      ],
      "metadata": {
        "id": "NGW0ABWIfEDU"
      },
      "execution_count": null,
      "outputs": []
    },
    {
      "cell_type": "code",
      "source": [
        "epochs = 2\n",
        "\n",
        "training_args = TrainingArguments(\n",
        "    output_dir=\"/content/drive/MyDrive/snips_clf/resultstokens\",\n",
        "    num_train_epochs=epochs,\n",
        "    per_device_train_batch_size=32,\n",
        "    per_device_eval_batch_size=32,\n",
        "    load_best_model_at_end=True,\n",
        "\n",
        "    logging_steps=10,\n",
        "    log_level='info',\n",
        "    evaluation_strategy='epoch',\n",
        "    save_strategy='epoch'\n",
        ")\n",
        "\n",
        "# Define the trainer:\n",
        "\n",
        "trainer = Trainer(\n",
        "    model=tok_clf_model,\n",
        "    args=training_args,\n",
        "    train_dataset=tok_clf_tokenized_snips['train'],\n",
        "    eval_dataset=tok_clf_tokenized_snips['test'],\n",
        "    data_collator=tok_data_collator\n",
        ")"
      ],
      "metadata": {
        "id": "9x8LAMp3fcNl"
      },
      "execution_count": null,
      "outputs": []
    },
    {
      "cell_type": "code",
      "source": [
        "trainer.evaluate()"
      ],
      "metadata": {
        "colab": {
          "base_uri": "https://localhost:8080/",
          "height": 196
        },
        "id": "Gu9SvZblkL97",
        "outputId": "ad91f2df-eb72-448a-b7ed-7b9916a7e1ff"
      },
      "execution_count": null,
      "outputs": [
        {
          "output_type": "stream",
          "name": "stderr",
          "text": [
            "***** Running Evaluation *****\n",
            "  Num examples = 2617\n",
            "  Batch size = 32\n",
            "You're using a DistilBertTokenizerFast tokenizer. Please note that with a fast tokenizer, using the `__call__` method is faster than using a method to encode the text followed by a call to the `pad` method to get a padded encoding.\n"
          ]
        },
        {
          "output_type": "display_data",
          "data": {
            "text/plain": [
              "<IPython.core.display.HTML object>"
            ],
            "text/html": [
              "\n",
              "    <div>\n",
              "      \n",
              "      <progress value='82' max='82' style='width:300px; height:20px; vertical-align: middle;'></progress>\n",
              "      [82/82 01:55]\n",
              "    </div>\n",
              "    "
            ]
          },
          "metadata": {}
        },
        {
          "output_type": "execute_result",
          "data": {
            "text/plain": [
              "{'eval_loss': 4.399007797241211,\n",
              " 'eval_runtime': 118.2107,\n",
              " 'eval_samples_per_second': 22.138,\n",
              " 'eval_steps_per_second': 0.694}"
            ]
          },
          "metadata": {},
          "execution_count": 21
        }
      ]
    },
    {
      "cell_type": "code",
      "source": [
        "trainer.train()"
      ],
      "metadata": {
        "colab": {
          "base_uri": "https://localhost:8080/",
          "height": 699
        },
        "id": "j1K4qZ25k0-d",
        "outputId": "6520b863-7847-4fed-f80c-6c356188afc3"
      },
      "execution_count": null,
      "outputs": [
        {
          "output_type": "stream",
          "name": "stderr",
          "text": [
            "/usr/local/lib/python3.10/dist-packages/transformers/optimization.py:411: FutureWarning: This implementation of AdamW is deprecated and will be removed in a future version. Use the PyTorch implementation torch.optim.AdamW instead, or set `no_deprecation_warning=True` to disable this warning\n",
            "  warnings.warn(\n",
            "***** Running training *****\n",
            "  Num examples = 10,467\n",
            "  Num Epochs = 2\n",
            "  Instantaneous batch size per device = 32\n",
            "  Total train batch size (w. parallel, distributed & accumulation) = 32\n",
            "  Gradient Accumulation steps = 1\n",
            "  Total optimization steps = 656\n",
            "  Number of trainable parameters = 65,246,280\n"
          ]
        },
        {
          "output_type": "display_data",
          "data": {
            "text/plain": [
              "<IPython.core.display.HTML object>"
            ],
            "text/html": [
              "\n",
              "    <div>\n",
              "      \n",
              "      <progress value='656' max='656' style='width:300px; height:20px; vertical-align: middle;'></progress>\n",
              "      [656/656 57:03, Epoch 2/2]\n",
              "    </div>\n",
              "    <table border=\"1\" class=\"dataframe\">\n",
              "  <thead>\n",
              " <tr style=\"text-align: left;\">\n",
              "      <th>Epoch</th>\n",
              "      <th>Training Loss</th>\n",
              "      <th>Validation Loss</th>\n",
              "    </tr>\n",
              "  </thead>\n",
              "  <tbody>\n",
              "    <tr>\n",
              "      <td>1</td>\n",
              "      <td>0.172100</td>\n",
              "      <td>0.174668</td>\n",
              "    </tr>\n",
              "    <tr>\n",
              "      <td>2</td>\n",
              "      <td>0.100100</td>\n",
              "      <td>0.129533</td>\n",
              "    </tr>\n",
              "  </tbody>\n",
              "</table><p>"
            ]
          },
          "metadata": {}
        },
        {
          "output_type": "stream",
          "name": "stderr",
          "text": [
            "***** Running Evaluation *****\n",
            "  Num examples = 2617\n",
            "  Batch size = 32\n"
          ]
        },
        {
          "output_type": "display_data",
          "data": {
            "text/plain": [
              "<IPython.core.display.HTML object>"
            ],
            "text/html": [
              "\n",
              "    <div>\n",
              "      \n",
              "      <progress value='164' max='82' style='width:300px; height:20px; vertical-align: middle;'></progress>\n",
              "      [82/82 31:06]\n",
              "    </div>\n",
              "    "
            ]
          },
          "metadata": {}
        },
        {
          "output_type": "stream",
          "name": "stderr",
          "text": [
            "Saving model checkpoint to /content/drive/MyDrive/snips_clf/results/checkpoint-328\n",
            "Configuration saved in /content/drive/MyDrive/snips_clf/results/checkpoint-328/config.json\n",
            "Model weights saved in /content/drive/MyDrive/snips_clf/results/checkpoint-328/pytorch_model.bin\n",
            "***** Running Evaluation *****\n",
            "  Num examples = 2617\n",
            "  Batch size = 32\n",
            "Saving model checkpoint to /content/drive/MyDrive/snips_clf/results/checkpoint-656\n",
            "Configuration saved in /content/drive/MyDrive/snips_clf/results/checkpoint-656/config.json\n",
            "Model weights saved in /content/drive/MyDrive/snips_clf/results/checkpoint-656/pytorch_model.bin\n",
            "\n",
            "\n",
            "Training completed. Do not forget to share your model on huggingface.co/models =)\n",
            "\n",
            "\n",
            "Loading best model from /content/drive/MyDrive/snips_clf/results/checkpoint-656 (score: 0.12953303754329681).\n"
          ]
        },
        {
          "output_type": "execute_result",
          "data": {
            "text/plain": [
              "TrainOutput(global_step=656, training_loss=0.39019599075360994, metrics={'train_runtime': 3436.725, 'train_samples_per_second': 6.091, 'train_steps_per_second': 0.191, 'total_flos': 129160239536160.0, 'train_loss': 0.39019599075360994, 'epoch': 2.0})"
            ]
          },
          "metadata": {},
          "execution_count": 27
        }
      ]
    },
    {
      "cell_type": "code",
      "source": [
        "trainer.evaluate()"
      ],
      "metadata": {
        "colab": {
          "base_uri": "https://localhost:8080/",
          "height": 176
        },
        "id": "FZ7V9WolySjE",
        "outputId": "8f7555e5-a516-4e91-dc78-516ef5ae8186"
      },
      "execution_count": null,
      "outputs": [
        {
          "output_type": "stream",
          "name": "stderr",
          "text": [
            "***** Running Evaluation *****\n",
            "  Num examples = 2617\n",
            "  Batch size = 32\n"
          ]
        },
        {
          "output_type": "display_data",
          "data": {
            "text/plain": [
              "<IPython.core.display.HTML object>"
            ],
            "text/html": [
              "\n",
              "    <div>\n",
              "      \n",
              "      <progress value='82' max='82' style='width:300px; height:20px; vertical-align: middle;'></progress>\n",
              "      [82/82 02:00]\n",
              "    </div>\n",
              "    "
            ]
          },
          "metadata": {}
        },
        {
          "output_type": "execute_result",
          "data": {
            "text/plain": [
              "{'eval_loss': 0.12953303754329681,\n",
              " 'eval_runtime': 124.6129,\n",
              " 'eval_samples_per_second': 21.001,\n",
              " 'eval_steps_per_second': 0.658,\n",
              " 'epoch': 2.0}"
            ]
          },
          "metadata": {},
          "execution_count": 28
        }
      ]
    },
    {
      "cell_type": "code",
      "source": [
        "pipe = pipeline(\"token-classification\", tok_clf_model, tokenizer=tokenizer)\n",
        "pipe('Please add Here We Go by Dispatch to my road trip playlist')"
      ],
      "metadata": {
        "colab": {
          "base_uri": "https://localhost:8080/"
        },
        "id": "klq4I50my6u9",
        "outputId": "89b6e8c5-9283-4b47-8f38-91c5012c5282"
      },
      "execution_count": null,
      "outputs": [
        {
          "output_type": "stream",
          "name": "stderr",
          "text": [
            "No CUDA runtime is found, using CUDA_HOME='/usr/local/cuda'\n",
            "Disabling tokenizer parallelism, we're using DataLoader multithreading already\n"
          ]
        },
        {
          "output_type": "execute_result",
          "data": {
            "text/plain": [
              "[{'entity': 'B-entity_name',\n",
              "  'score': 0.90811116,\n",
              "  'index': 3,\n",
              "  'word': 'Here',\n",
              "  'start': 11,\n",
              "  'end': 15},\n",
              " {'entity': 'I-entity_name',\n",
              "  'score': 0.8904896,\n",
              "  'index': 4,\n",
              "  'word': 'We',\n",
              "  'start': 16,\n",
              "  'end': 18},\n",
              " {'entity': 'I-entity_name',\n",
              "  'score': 0.9222006,\n",
              "  'index': 5,\n",
              "  'word': 'Go',\n",
              "  'start': 19,\n",
              "  'end': 21},\n",
              " {'entity': 'B-artist',\n",
              "  'score': 0.6795641,\n",
              "  'index': 7,\n",
              "  'word': 'Di',\n",
              "  'start': 25,\n",
              "  'end': 27},\n",
              " {'entity': 'I-artist',\n",
              "  'score': 0.4951065,\n",
              "  'index': 8,\n",
              "  'word': '##sp',\n",
              "  'start': 27,\n",
              "  'end': 29},\n",
              " {'entity': 'I-entity_name',\n",
              "  'score': 0.5134353,\n",
              "  'index': 9,\n",
              "  'word': '##atch',\n",
              "  'start': 29,\n",
              "  'end': 33},\n",
              " {'entity': 'B-playlist_owner',\n",
              "  'score': 0.9935958,\n",
              "  'index': 11,\n",
              "  'word': 'my',\n",
              "  'start': 37,\n",
              "  'end': 39},\n",
              " {'entity': 'B-playlist',\n",
              "  'score': 0.9923908,\n",
              "  'index': 12,\n",
              "  'word': 'road',\n",
              "  'start': 40,\n",
              "  'end': 44},\n",
              " {'entity': 'I-playlist',\n",
              "  'score': 0.9944571,\n",
              "  'index': 13,\n",
              "  'word': 'trip',\n",
              "  'start': 45,\n",
              "  'end': 49}]"
            ]
          },
          "metadata": {},
          "execution_count": 29
        }
      ]
    },
    {
      "cell_type": "code",
      "source": [
        "pipe = pipeline(\"token-classification\", tok_clf_model, tokenizer=tokenizer)\n",
        "pipe('Rate the doog food 5 out of 5')"
      ],
      "metadata": {
        "colab": {
          "base_uri": "https://localhost:8080/"
        },
        "id": "kanjRzyMzIj1",
        "outputId": "bd77bbb5-06bb-46ac-b279-85c57dbbddc5"
      },
      "execution_count": null,
      "outputs": [
        {
          "output_type": "execute_result",
          "data": {
            "text/plain": [
              "[{'entity': 'B-object_name',\n",
              "  'score': 0.62313217,\n",
              "  'index': 2,\n",
              "  'word': 'the',\n",
              "  'start': 5,\n",
              "  'end': 8},\n",
              " {'entity': 'I-object_name',\n",
              "  'score': 0.9711656,\n",
              "  'index': 3,\n",
              "  'word': 'do',\n",
              "  'start': 9,\n",
              "  'end': 11},\n",
              " {'entity': 'I-object_name',\n",
              "  'score': 0.9886669,\n",
              "  'index': 4,\n",
              "  'word': '##og',\n",
              "  'start': 11,\n",
              "  'end': 13},\n",
              " {'entity': 'I-object_name',\n",
              "  'score': 0.9863257,\n",
              "  'index': 5,\n",
              "  'word': 'food',\n",
              "  'start': 14,\n",
              "  'end': 18},\n",
              " {'entity': 'B-rating_value',\n",
              "  'score': 0.99513066,\n",
              "  'index': 6,\n",
              "  'word': '5',\n",
              "  'start': 19,\n",
              "  'end': 20},\n",
              " {'entity': 'B-best_rating',\n",
              "  'score': 0.82789963,\n",
              "  'index': 9,\n",
              "  'word': '5',\n",
              "  'start': 28,\n",
              "  'end': 29}]"
            ]
          },
          "metadata": {},
          "execution_count": 30
        }
      ]
    }
  ]
}