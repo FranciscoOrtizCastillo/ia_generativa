{
  "nbformat": 4,
  "nbformat_minor": 0,
  "metadata": {
    "colab": {
      "provenance": []
    },
    "kernelspec": {
      "name": "python3",
      "display_name": "Python 3"
    },
    "language_info": {
      "name": "python"
    }
  },
  "cells": [
    {
      "cell_type": "code",
      "execution_count": null,
      "metadata": {
        "id": "vhoOgMB13fp3"
      },
      "outputs": [],
      "source": []
    },
    {
      "cell_type": "markdown",
      "source": [
        "# **Introducción a PyTorch**"
      ],
      "metadata": {
        "id": "K9fq7O6c3lkI"
      }
    },
    {
      "cell_type": "code",
      "source": [
        "import torch"
      ],
      "metadata": {
        "id": "hauO2rnT3wOR"
      },
      "execution_count": null,
      "outputs": []
    },
    {
      "cell_type": "code",
      "source": [
        "#Tensor de 1 dimensión\n",
        "\n",
        "tensor_una_d= torch.LongTensor([0])\n",
        "print(f'La forma de  {tensor_una_d} es {tensor_una_d.shape} y su dimensión es {tensor_una_d.dim()}' )"
      ],
      "metadata": {
        "colab": {
          "base_uri": "https://localhost:8080/"
        },
        "id": "qMNcsxmi36fZ",
        "outputId": "dbd80a3f-44bf-4daf-b192-e75aa3e77430"
      },
      "execution_count": null,
      "outputs": [
        {
          "output_type": "stream",
          "name": "stdout",
          "text": [
            "La forma de  tensor([0]) es torch.Size([1]) y su dimensión es 1\n"
          ]
        }
      ]
    },
    {
      "cell_type": "code",
      "source": [],
      "metadata": {
        "id": "bPkzbEMG8RfV"
      },
      "execution_count": null,
      "outputs": []
    },
    {
      "cell_type": "code",
      "source": [
        "#Otro tensor de 1 dimensión\n",
        "\n",
        "tensor_una_d= torch.LongTensor([0, 1, 2])\n",
        "print(f'La forma de  {tensor_una_d} es {tensor_una_d.shape} y su dimensión es {tensor_una_d.dim()}' )"
      ],
      "metadata": {
        "colab": {
          "base_uri": "https://localhost:8080/"
        },
        "outputId": "d6cbaff4-d884-484f-c033-2faceaabf5cd",
        "id": "i2_L5jbC8Vd6"
      },
      "execution_count": null,
      "outputs": [
        {
          "output_type": "stream",
          "name": "stdout",
          "text": [
            "La forma de  tensor([0, 1, 2]) es torch.Size([3]) y su dimensión es 1\n"
          ]
        }
      ]
    },
    {
      "cell_type": "code",
      "source": [],
      "metadata": {
        "id": "QE-8SBLZ9C3j"
      },
      "execution_count": null,
      "outputs": []
    },
    {
      "cell_type": "code",
      "source": [
        "#Tensor de 2 dimensiones\n",
        "\n",
        "tensor_dos_d= torch.LongTensor([[0, 1, 2], [3, 4, 5]])\n",
        "print (tensor_dos_d)\n",
        "print(f'La forma de  {tensor_dos_d} es {tensor_dos_d.shape} y su dimensión es {tensor_dos_d.dim()}' )"
      ],
      "metadata": {
        "colab": {
          "base_uri": "https://localhost:8080/"
        },
        "outputId": "f3159203-0483-407f-a1bb-ea763653dbb5",
        "id": "GN2W2zZ-9FRw"
      },
      "execution_count": null,
      "outputs": [
        {
          "output_type": "stream",
          "name": "stdout",
          "text": [
            "tensor([[0, 1, 2],\n",
            "        [3, 4, 5]])\n",
            "La forma de  tensor([[0, 1, 2],\n",
            "        [3, 4, 5]]) es torch.Size([2, 3]) y su dimensión es 2\n"
          ]
        }
      ]
    },
    {
      "cell_type": "code",
      "source": [],
      "metadata": {
        "id": "tdwYvNUBCnV2"
      },
      "execution_count": null,
      "outputs": []
    },
    {
      "cell_type": "code",
      "source": [
        "#Otro tensor de 2 dimensiones\n",
        "\n",
        "tensor_dos_d= torch.LongTensor([[0, 1, 2], [3, 4, 5], [6, 7, 8]])\n",
        "print (tensor_dos_d)\n",
        "print(f'La forma de  {tensor_dos_d} es {tensor_dos_d.shape} y su dimensión es {tensor_dos_d.dim()}' )"
      ],
      "metadata": {
        "colab": {
          "base_uri": "https://localhost:8080/"
        },
        "outputId": "64211afe-b4d1-4870-9123-f1a31dd3184a",
        "id": "DlYSzTtKCqno"
      },
      "execution_count": null,
      "outputs": [
        {
          "output_type": "stream",
          "name": "stdout",
          "text": [
            "tensor([[0, 1, 2],\n",
            "        [3, 4, 5],\n",
            "        [6, 7, 8]])\n",
            "La forma de  tensor([[0, 1, 2],\n",
            "        [3, 4, 5],\n",
            "        [6, 7, 8]]) es torch.Size([3, 3]) y su dimensión es 2\n"
          ]
        }
      ]
    },
    {
      "cell_type": "code",
      "source": [],
      "metadata": {
        "id": "veWEvPIZE5q3"
      },
      "execution_count": null,
      "outputs": []
    },
    {
      "cell_type": "code",
      "source": [
        "# Tensor de 3 dimensiones\n",
        "tensor_tres_d = torch.LongTensor([[[0, 1, 2], [3, 4, 5], [6, 7, 8]],\n",
        "                                  [[9, 10, 11], [12, 13, 14], [15, 16, 17]],\n",
        "                                  [[18, 19, 20], [21, 22, 23], [24, 25, 26]]])\n",
        "print(tensor_tres_d)\n",
        "print(f'La forma de {tensor_tres_d} es {tensor_tres_d.shape} y su dimensión es {tensor_tres_d.dim()}')\n"
      ],
      "metadata": {
        "colab": {
          "base_uri": "https://localhost:8080/"
        },
        "outputId": "f61d80ba-88f2-4560-a03b-ac69c3cc86c5",
        "id": "rZdLtrsFE7Ak"
      },
      "execution_count": null,
      "outputs": [
        {
          "output_type": "stream",
          "name": "stdout",
          "text": [
            "tensor([[[ 0,  1,  2],\n",
            "         [ 3,  4,  5],\n",
            "         [ 6,  7,  8]],\n",
            "\n",
            "        [[ 9, 10, 11],\n",
            "         [12, 13, 14],\n",
            "         [15, 16, 17]],\n",
            "\n",
            "        [[18, 19, 20],\n",
            "         [21, 22, 23],\n",
            "         [24, 25, 26]]])\n",
            "La forma de tensor([[[ 0,  1,  2],\n",
            "         [ 3,  4,  5],\n",
            "         [ 6,  7,  8]],\n",
            "\n",
            "        [[ 9, 10, 11],\n",
            "         [12, 13, 14],\n",
            "         [15, 16, 17]],\n",
            "\n",
            "        [[18, 19, 20],\n",
            "         [21, 22, 23],\n",
            "         [24, 25, 26]]]) es torch.Size([3, 3, 3]) y su dimensión es 3\n"
          ]
        }
      ]
    }
  ]
}